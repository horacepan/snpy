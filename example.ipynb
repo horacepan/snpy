{
 "cells": [
  {
   "cell_type": "markdown",
   "metadata": {},
   "source": [
    "# Sample usage of SnPy\n",
    "SnPy currently contains two notable classes:\n",
    "- Perm: a class for permutations\n",
    "- SnIrrep: a class that acts as a wrapper for producing irreps of permutations"
   ]
  },
  {
   "cell_type": "code",
   "execution_count": 2,
   "metadata": {},
   "outputs": [],
   "source": [
    "from snpy.perm import Perm, sn\n",
    "from snpy.sn_irrep import SnIrrep"
   ]
  },
  {
   "cell_type": "markdown",
   "metadata": {},
   "source": [
    "## The Perm class\n",
    "We can construct permutations in a few ways:\n",
    "\n",
    "- `Perm(lst_map)`: the parameter `lst_map` encodes the permutation. To create a permutation $\\sigma$ with the standard constructor, you supply a list where each index `i` contains $\\sigma(i+1)$. For instance, consider the permutation $$1 \\mapsto 2, \\quad 2 \\mapsto 1, \\quad 3 \\mapsto 5, \\quad 4 \\mapsto 3, \\quad 5 \\mapsto 4$$\n",
    "is can be constructed as `Perm([2, 1, 5, 3, 4])`\n",
    "- `Perm.trans(a, b, n)`: the permutation $a \\mapsto b, b\\mapsto a$ in $\\mathbb{S}_n$\n",
    "- `Perm.cycle(a, b, n)`: creates permutations of the form $a \\mapsto a+1, a+1 \\mapsto a+2..., b - 1 \\mapsto b$\n",
    "- `Perm.from_cycle_decomp(decomp_lst, n)`: `decomp_lst` is a list of the cycles in the permutation\n",
    "`Perm.from_cycle_decomp([(1, 2), (3,4)], 4)` constrcuts the permutation: $1 \\mapsto 2, 2 \\mapsto 1, 3\\mapsto 4, 4\\mapsto4$ in $\\mathbb{S}_n$.\n",
    "- `Perm.eye(n)`: constructs the identity permutation in `\\mathbb{S}_n`\n",
    "\n",
    "### Useful members of `Perm` objects:\n",
    "- `Perm.inv()`: returns the inverse permutation\n",
    "- `Perm.tup`: returns the tuple that encodes the permutation. This may be useful if you need to store a dictionary/set of the permutation signatures. Note that this is a property, not a function\n",
    "- `Perm.mat()`: returns the $n \\times n$ permutation matrix"
   ]
  },
  {
   "cell_type": "code",
   "execution_count": 3,
   "metadata": {},
   "outputs": [
    {
     "name": "stdout",
     "output_type": "stream",
     "text": [
      "g = [[1, 2], [3, 5, 4]]\n",
      "Permutation matrix\n",
      "[[0. 1. 0. 0. 0.]\n",
      " [1. 0. 0. 0. 0.]\n",
      " [0. 0. 0. 1. 0.]\n",
      " [0. 0. 0. 0. 1.]\n",
      " [0. 0. 1. 0. 0.]]\n"
     ]
    }
   ],
   "source": [
    "lst_map = [2, 1, 5, 3, 4]\n",
    "g = Perm(lst_map)\n",
    "print('g =', g)\n",
    "print('Permutation matrix')\n",
    "print(g.mat())"
   ]
  },
  {
   "cell_type": "code",
   "execution_count": 4,
   "metadata": {},
   "outputs": [
    {
     "name": "stdout",
     "output_type": "stream",
     "text": [
      "g  =  [[1, 5]]\n",
      "h  =  [[2, 3]]\n",
      "gh =  [[1, 5], [2, 3]]\n"
     ]
    }
   ],
   "source": [
    "# Construct the transposition (1, 5) in S_6\n",
    "g = Perm.trans(1, 5, 6)\n",
    "\n",
    "# Construct the transposition (2, 3) in S_6\n",
    "h = Perm.trans(2, 3, 6)\n",
    "\n",
    "# Permutations are printed in cycle decomposition\n",
    "print('g  = ', g)\n",
    "print('h  = ', h)\n",
    "\n",
    "# Permutations can be multiplied in the natural way\n",
    "print('gh = ', g * h)"
   ]
  },
  {
   "cell_type": "markdown",
   "metadata": {},
   "source": [
    "Permutations can be used as functions or indexed into like dictionaries."
   ]
  },
  {
   "cell_type": "code",
   "execution_count": 5,
   "metadata": {},
   "outputs": [
    {
     "name": "stdout",
     "output_type": "stream",
     "text": [
      "g[1] = 5 = 5\n",
      "g[2] = 2 = 2\n",
      "g[3] = 3 = 3\n",
      "g[4] = 4 = 4\n",
      "g[5] = 1 = 1\n"
     ]
    }
   ],
   "source": [
    "for i in range(1, 6):\n",
    "    print(f'g[{i}] = {g(i)} = {g[i]}')"
   ]
  },
  {
   "cell_type": "code",
   "execution_count": 6,
   "metadata": {},
   "outputs": [
    {
     "name": "stdout",
     "output_type": "stream",
     "text": [
      "h: [[2, 3, 4, 5]]\n",
      "h inverse [[2, 5, 4, 3]]\n"
     ]
    }
   ],
   "source": [
    "# Construct the permutation: (2, 3, 4, 5) in S_7\n",
    "h = Perm.cycle(2, 5, 6)\n",
    "print('h:', h)\n",
    "print('h inverse', h.inv())"
   ]
  },
  {
   "cell_type": "code",
   "execution_count": 7,
   "metadata": {},
   "outputs": [
    {
     "name": "stdout",
     "output_type": "stream",
     "text": [
      "g:  [[1, 2, 3], [4, 7], [5, 6]]\n",
      "g inverse: [[1, 3, 2], [4, 7], [5, 6]]\n"
     ]
    }
   ],
   "source": [
    "# Construct a permutation by supplying its constituent cycles\n",
    "cycle_decomp = [(1, 2, 3), (4, 7), (5, 6)]\n",
    "n = 9\n",
    "g = Perm.from_cycle_decomp(cycle_decomp, n)\n",
    "print('g: ', g)\n",
    "print('g inverse:', g.inv())"
   ]
  },
  {
   "cell_type": "markdown",
   "metadata": {},
   "source": [
    "# Constructing Irreps of $\\mathbb{S}_n$\n",
    "`snpy.sn_irrep` contains an `SnIrrep` class that constructs irreps. The `SnIrrep` constructor takes\n",
    "- partition: tuple of ints denoting the irrep\n",
    "- fmt: the irrep can be returned as an numpy ndarray/matrix or a [`scipy.csr_matrix`](https://docs.scipy.org/doc/scipy/reference/generated/scipy.sparse.csr_matrix.html#scipy.sparse.csr_matrix). You can specify which you want by setting `fmt` to `'dense'` or `'sparse'`\n",
    "\n",
    "An `SnIrrep` object can then be used a function that takes in a `Perm` object and returns an irrep matrix (in the format specified)."
   ]
  },
  {
   "cell_type": "code",
   "execution_count": 8,
   "metadata": {},
   "outputs": [
    {
     "name": "stdout",
     "output_type": "stream",
     "text": [
      "Dense Representation\n",
      "[[ 0.5        0.8660254  0.         0.       ]\n",
      " [ 0.8660254 -0.5        0.         0.       ]\n",
      " [ 0.         0.         1.         0.       ]\n",
      " [ 0.         0.         0.         1.       ]]\n",
      "Sparse representation\n",
      "  (0, 1)\t0.8660254037844386\n",
      "  (0, 0)\t0.5\n",
      "  (1, 1)\t-0.5\n",
      "  (1, 0)\t0.8660254037844386\n",
      "  (2, 2)\t1.0\n",
      "  (3, 3)\t1.0\n"
     ]
    }
   ],
   "source": [
    "partition = (4, 1)\n",
    "g = Perm.trans(2, 3, 5)\n",
    "rho = SnIrrep(partition, fmt='dense')\n",
    "rho_sp = SnIrrep(partition, fmt='sparse')\n",
    "\n",
    "print('Dense Representation')\n",
    "print(rho(g))\n",
    "print('Sparse representation')\n",
    "print(rho_sp(g))"
   ]
  },
  {
   "cell_type": "markdown",
   "metadata": {},
   "source": [
    "### Useful SnIrrep properties:\n",
    "- `SnIrrep.dim`: the dimension of the irrep\n",
    "- `SnIrrep.tableaux`: list of the standard young tableaux of the given irrep's shape"
   ]
  },
  {
   "cell_type": "code",
   "execution_count": 15,
   "metadata": {},
   "outputs": [
    {
     "name": "stdout",
     "output_type": "stream",
     "text": [
      "Irrep (4, 1) has dimension: 4\n",
      "Index 0:\n",
      "[1][3][4][5]\n",
      "[2]\n",
      "\n",
      "Index 1:\n",
      "[1][2][4][5]\n",
      "[3]\n",
      "\n",
      "Index 2:\n",
      "[1][2][3][5]\n",
      "[4]\n",
      "\n",
      "Index 3:\n",
      "[1][2][3][4]\n",
      "[5]\n",
      "\n"
     ]
    }
   ],
   "source": [
    "shape = (4, 1)\n",
    "rho = SnIrrep(shape, fmt='sparse')\n",
    "print(f'Irrep {shape} has dimension: {rho.dim}')\n",
    "for idx, t in enumerate(rho.tableaux):\n",
    "    print(f'Index {idx}:')\n",
    "    print(t)\n",
    "    print()"
   ]
  },
  {
   "cell_type": "markdown",
   "metadata": {},
   "source": [
    "## A full Fourier transform\n",
    "Using the Perm and SnIrrep classes, it is relatively straightforward to write a full fourier transform function."
   ]
  },
  {
   "cell_type": "code",
   "execution_count": 8,
   "metadata": {},
   "outputs": [],
   "source": [
    "def fourier_transform(f, partition):\n",
    "    '''\n",
    "    f: function from Perm to real numbers\n",
    "    partition: tuple of ints indexing which irrep to fourier transform over\n",
    "    Returns: numpy matrix\n",
    "    '''\n",
    "    n = sum(partition)\n",
    "    group = sn(n)\n",
    "    rho = SnIrrep(partition, fmt='dense')\n",
    "\n",
    "    fhat_rho = 0\n",
    "    for g in group:\n",
    "        fhat_rho += f(g) * rho(g)\n",
    "    return fhat_rho"
   ]
  },
  {
   "cell_type": "markdown",
   "metadata": {},
   "source": [
    "Let's construct an arbitrary small graph with adjacency matrix $A$ and compute the fourier transform of the resulting graph function: $$f_A (\\sigma) = A_{\\sigma(n), \\sigma(n-1)}$$"
   ]
  },
  {
   "cell_type": "code",
   "execution_count": 9,
   "metadata": {},
   "outputs": [],
   "source": [
    "import numpy as np\n",
    "import matplotlib.pyplot as plt\n",
    "\n",
    "A = np.array([\n",
    "    [0, 1, 1, 0, 0],\n",
    "    [1, 0, 1, 0, 0],\n",
    "    [0, 1, 0, 1, 0],\n",
    "    [0, 0, 1, 0, 1],\n",
    "    [0, 0, 0, 1, 0]\n",
    "])\n",
    "\n",
    "def f_adj(sigma):\n",
    "    '''\n",
    "    sigma: Perm object\n",
    "    Returns: \n",
    "    '''\n",
    "    n = A.shape[0]\n",
    "    return A[sigma(n)-1, sigma(n-1)-1]"
   ]
  },
  {
   "cell_type": "code",
   "execution_count": 10,
   "metadata": {},
   "outputs": [
    {
     "data": {
      "image/png": "[encoded data removed]",
      "text/plain": [
       "<Figure size 1152x576 with 3 Axes>"
      ]
     },
     "metadata": {},
     "output_type": "display_data"
    }
   ],
   "source": [
    "fhat1 = fourier_transform(f_adj, (4, 1))\n",
    "fhat2 = fourier_transform(f_adj, (3, 1, 1))\n",
    "fhat3 = fourier_transform(f_adj, (3, 2))\n",
    "\n",
    "plt.figure(figsize=(16, 8))\n",
    "plt.subplot(1, 3, 1)\n",
    "plt.imshow(fhat1)\n",
    "plt.title('Sparsity pattern: $\\lambda = (4, 1)$')\n",
    "\n",
    "plt.subplot(1, 3, 2)\n",
    "plt.title('Sparsity pattern: $\\lambda = (3, 1, 1)$')\n",
    "plt.imshow(fhat2)\n",
    "\n",
    "plt.subplot(1, 3, 3)\n",
    "plt.title('Sparsity pattern: $\\lambda = (3, 2)$')\n",
    "plt.imshow(fhat3)\n",
    "plt.show()"
   ]
  }
 ],
 "metadata": {
  "kernelspec": {
   "display_name": "Python 3",
   "language": "python",
   "name": "python3"
  },
  "language_info": {
   "codemirror_mode": {
    "name": "ipython",
    "version": 3
   },
   "file_extension": ".py",
   "mimetype": "text/x-python",
   "name": "python",
   "nbconvert_exporter": "python",
   "pygments_lexer": "ipython3",
   "version": "3.6.7"
  }
 },
 "nbformat": 4,
 "nbformat_minor": 2
}
